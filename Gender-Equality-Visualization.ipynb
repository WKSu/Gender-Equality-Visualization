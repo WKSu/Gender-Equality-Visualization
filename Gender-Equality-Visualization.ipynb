{
 "cells": [
  {
   "cell_type": "markdown",
   "metadata": {},
   "source": [
    "# Gender equality and prosperity: a visual data analytics report"
   ]
  },
  {
   "cell_type": "markdown",
   "metadata": {},
   "source": [
    "Foreword:\n",
    "For building this notebook, we have tried to work with and experiment with as many graphs and analyses as possible. We used several libraries as will be shown throughout the notebook, and tried to come up with interesting charts and plots. Sometimes this might have been at the cost of the level of the analysis and interpretation, but we put the focus on the coding because this taught us the most.\n",
    "\n",
    "Most sincerely, Group 16"
   ]
  },
  {
   "cell_type": "code",
   "execution_count": 1,
   "metadata": {},
   "outputs": [
    {
     "name": "stdout",
     "output_type": "stream",
     "text": [
      "This notebook is made by:\n",
      "\n",
      " Brennen Bouwmeester, 4446461\n",
      " Batoul Mesdaghi, 4495896 \n",
      " Kevin Su, 4438108\n"
     ]
    }
   ],
   "source": [
    "def contributors():\n",
    "    print(\"This notebook is made by:\\n\\n Brennen Bouwmeester, 4446461\\n Batoul Mesdaghi, 4495896 \\n Kevin Su, 4438108\")\n",
    "contributors()"
   ]
  },
  {
   "cell_type": "code",
   "execution_count": 2,
   "metadata": {},
   "outputs": [],
   "source": [
    "%matplotlib inline\n",
    "import numpy as np\n",
    "import matplotlib.pyplot as plt\n",
    "\n",
    "#Libraries needed for scraping\n",
    "from bs4 import BeautifulSoup\n",
    "import io\n",
    "from requests import get\n",
    "\n",
    "#Load the pandas library needed for dataframes\n",
    "import pandas as pd\n",
    "\n",
    "#New packages installed geopandas and geoplot\n",
    "import geopandas as gpd\n",
    "import geoplot\n",
    "\n",
    "#Import libraries needed for interactive plots\n",
    "from ipywidgets import interact, interactive, fixed\n",
    "import ipywidgets as widgets\n",
    "\n",
    "#New package plotly with api key\n",
    "import plotly\n",
    "import plotly.plotly as py\n",
    "import plotly.graph_objs as go\n",
    "from plotly import tools\n",
    "\n",
    "#Import stats to be able to do a regression analysis\n",
    "from scipy import stats"
   ]
  },
  {
   "cell_type": "code",
   "execution_count": 3,
   "metadata": {},
   "outputs": [],
   "source": [
    "#Here are the usernames and corresponding api_keys needed in order to work with plotly.\n",
    "#If one of them is used too much for one day, activate the other.\n",
    "\n",
    "#plotly.tools.set_credentials_file(username='Group16FreeBot1', api_key='TCK04WG6ttTdfOfoVJvr')\n",
    "plotly.tools.set_credentials_file(username='Group16FreeBot2', api_key='1Q0V9J5z2qobNzSeBF3U')"
   ]
  },
  {
   "cell_type": "markdown",
   "metadata": {},
   "source": [
    "# 1. Introduction\n",
    "\n",
    "## 1.1 Sustainable Development Goal: Gender Equality\n",
    "In September 2015, the 2030 UN agenda for Sustainable Development came into force. This agenda builds on the Millenium Development Goals (MDGs) and aims to enlarge global prosperity, while harmonizing environmental protection with different forms of economic growth and social inclusion (UN, 2018a). Compared to the MDGs, the environmental goals are further specified in the Sustainable Development Goals (SDGs). However, there are goals which have remained the same in both sets of global challenges, among which the fifth goal: the aspiration to secure gender equality.\n",
    "\n",
    "This goal includes the empowerment of women and girls for the reduction of poverty, the promotion of health, education and the protection of the well-being of boys and girls. The security of gender equality is fundamental to maintain peaceful and prosperous societies. Within the MDGs, gender equality was much focussed on the equal access to education between boys and girls. According to critics, it therefore failed to \"adequately conceptualise the nature of gender inequality or the diverse forms this takes\", to develop adequate policies to put the goal into practice and to take measurements for the monitoring of this goal (Unterhalter, 2005). For example, 1 out of 5 women and girls between the age of 15 to 49 still experience forms of physical or sexual harrasement and 49 countries have no laws protection women from domestic violance (UN, 2018b).\n",
    "\n",
    "What is important to note here, is that the distinct global challenges are not isolated from each other: existing literature has mentioned possible links between gender equality and other goals, namely between the educational attainment by women in a country (Unterhalter, 2005), long-run economic growth (Lagerhöf, 2003) and the reduction of poverty in developing countries (Morrison, Rajhu & Sinha, 2007). For policymakers, it is crucial to understand the undelying mechanisms between gender equality and other goals, so that not only adequate policies can be developed, but also more precise indicators can be selected to monitor the effectivity of policies."
   ]
  },
  {
   "cell_type": "markdown",
   "metadata": {},
   "source": [
    "## 1.2 Research Questions\n",
    "The scientific contribution of this project is to gain more understanding of mechanisms of human prosperity, by analyzing the causal relations between gender equality and other SDGs. The societal contribution is to help policymakers in the achievement of gender equality with the information on these causal relations.\n",
    "\n",
    "Therefore, the following research question has been formulated:\n",
    "\n",
    "**How is gender equality related to the prosperity of a country?** \n",
    "\n",
    "In order to answer this research question, the following subquestions can be explored:\n",
    "\n",
    "1. How is the Gender Inequality Index (GII) related to the Human Development Index (HDI)? \n",
    "\n",
    "2. What are differences in educational attainment between men and women in different countries?\n",
    "\n",
    "3. What is the relation between educational attainment of women and their employment in different countries? \n",
    "\n",
    "4. How large is female participation in the labour market compared to male participation in different countries?\n",
    "\n",
    "5. What trend exists in the unemployment ratio between women and men and the GDP of a country, controlled for population?\n",
    "\n",
    "6. How does the trend of completed tertiary eduction of male and female develop over time?\n",
    "\n",
    "The exact link between the main research question and these subquestions will become more clear in section 2.3. \n",
    "\n",
    "The subquestions were chosen to explore the research question in further detail. Firstly, the GII and the HDI will be used. The relation between these two indices will be shown to get an overview of an aggregated trend between gender equality and human development. If a trend is visible, more precise indicators will be selected from a suitable databank to assess the relation between gender equality in education and the labour market with the overall economy on a lower scale. This will among which be done with indicators on the educational attainment for men and women. Then, the third subquestion can explore the relationship between the completion of tertiary education and the employment ratio of women across different countries. This can be compared to the male participation, as formulated in the fourth subquestion. To find the link between the labour market participation and the overall economy of a country, indicators will be analysed to look at possible trends between the unemployment ratio of women compared to men and the GDP.  Lastly, we will look at the trend of completed tertiary education in the future. This gives an indication how gender equality will continue to develop."
   ]
  },
  {
   "cell_type": "markdown",
   "metadata": {},
   "source": [
    "## 1.3 Structure\n",
    "Chapter 2 will elaborate on how the data is cleaned and processed after identifying the relevant indicators for educational attainment and the labour market. Chapter 3 will show the results from the analyzing techniques. Chapter 4 will include the conclusion of the project, discussion and recommendations for future researchers."
   ]
  },
  {
   "cell_type": "markdown",
   "metadata": {},
   "source": [
    "# 2. Methodology\n",
    "This chapter provides an outline on how the data will be collected. The research methodology will be elaborated on in paragraph 2.1. Paragraph 2.2 explains what the data collection is based on and how it cleaned. Chapter 2.3 will discuss the relevant libraries and analyzing techniques used to explore the data for the research questions."
   ]
  },
  {
   "cell_type": "markdown",
   "metadata": {},
   "source": [
    "## 2.1 Research Methodology\n",
    "In order to see the general, aggregated trend between gender equality and human development, the United Nationals Development Programme (Human Development Reports) is used to extract the GII and the HDI. To select more precise indicators for the relation between gender equal education, employment and the economy, it is necessary to understand how a 'gender equal' life has been defined for men and women. This will be done by looking at the articles of the Universal Declaration of Human Rights, where the quality of a good life has been defined by looking at various aspects in the life of individuals, regardless of their gender. The Universal Declaration was the first global affirmation of norms claiming universal authority and validity (Samnøy, 1993). This global framework has thus been chosen to select indicators on gender equality more carefully.\n",
    "\n",
    "The aspects of a good human life, as defined through the articles of the Universal Declaration of Human Rights, make it possible to find and group relevant indicators within gender statistics. Each indicator can be related to the relevant article. These indicators will be extracted from the Gender Statistics Data Catalog of the World Bank. This comprehensive source contains data sex-disaggregated data data and gender statistics on demography, education, health, economic participation, public life and decision-making (World Bank, 2018). The databank contains 500 series on these topics and is thus composed of an extremely diverse range of indicators. Therefore, this databank has been chosen to select the relevant indicators.\n",
    "\n",
    "After selection of the indicators and the data gathering, the data and its trends will be analysed through the Python programming language. Python has a easy-to-understand syntax and furthermore, the availability of data science libraries continues to grow (BSN Magazine, 2018). The libraries are particularly powerful for analyzing and visualizing large datafiles.\n",
    "\n",
    "Out of the libraries, the Pandas library will be used to use the large datafile in a dataframe and to conduct operations. The Matplotlib library can then make 2D plots of dataframes containing the relevant indicators on gender equality in education, the labour market and the overall economy of a country. Matplotlib can also make the plots interactive so multiple years can easily be selected by policy makers. This allows one to see the development of different indicators over the years which have passed. For the relation between the GII and HDI, the Scipy library has been used to draw a regression line between datapoints in the scatter plot. Because it is also relevant to show the differences between countries, three new libraries have been installed and used in the Jupyter Notebook environment for Python: Geoplot, Geopandas and Plotly. \n",
    "\n",
    "Geoplot is a high-level Python geospatial plotting library compatible with Matplotlib. The library Geopandas is used to provide the input for the geographic visualizations (GeoPandas, 2018). Plotly has been installed for additional layout purposes of the graphs. For using Plotly an account was needed, which is added in the code where Plotly is used for the first time. Because there is a limited number of uses per day, two accounts were added in order for the notebook to work properly at all times.\n",
    "\n",
    "From the trends and the relations between the GII and the HDI and between the more precise indicators, one can recommend suitable indicators to assess gender equality with."
   ]
  },
  {
   "cell_type": "markdown",
   "metadata": {},
   "source": [
    "## 2.2 Data collection and preparation\n",
    "The general data collection and preparation will be discussed in this section."
   ]
  },
  {
   "cell_type": "markdown",
   "metadata": {},
   "source": [
    "### 2.2.1 United Nations Development Programme (Human Development Reports)\n",
    "In order to get an aggregated view of the relation between gender equality and human development and well-being, the data from the Human Development Reports are directly scraped from the corresponding website. The HDI Trend (http://hdr.undp.org/en/composite/trends) table is scraped with the function below."
   ]
  },
  {
   "cell_type": "code",
   "execution_count": 4,
   "metadata": {},
   "outputs": [],
   "source": [
    "def scraper_hdi():\n",
    "    \"\"\"This function scrapes the Human development index from the united nations development programme website\"\"\"\n",
    "    #To scrape a table from a website, we need to save the URL and use the get function to get the webpage as a webpage\n",
    "    url = \"http://hdr.undp.org/en/composite/trends\"\n",
    "    webpage = get(url)\n",
    "\n",
    "    #Now the BS4 library converts the webpage into a \"soup\"\n",
    "    html_soup = BeautifulSoup(webpage.text, \"html.parser\")\n",
    "    table = html_soup.find_all(\"table\")[0]\n",
    "\n",
    "    #Create an empty list to put all of the rows of the table in\n",
    "    l = []\n",
    "    #For every row in the table...\n",
    "    for tr in table.find_all(\"tr\"):\n",
    "        #Select all the values in that row\n",
    "        td = tr.find_all(\"td\")\n",
    "        #The row is all of the values in that row combined\n",
    "        row = [tr.text for tr in td]\n",
    "        #This is added to the list that will be turned into a dataframe later on\n",
    "        l.append(row)\n",
    "\n",
    "    #Now that there is a list of all the rows in the table, turn it into a pandas dataframe.\n",
    "    #Because the first 3 and the last 31 rows are not containing information that is needed, these are sliced off\n",
    "    hdi = pd.DataFrame(l[4:198])   \n",
    "    hdi = hdi.replace(\"..\", np.nan)\n",
    "\n",
    "    #Data cleaning: Because there are empty columns in the table these are deleted in a smart way (dropping the odd columns)\n",
    "    for column in hdi:\n",
    "        if column > 2 and column%2:\n",
    "            hdi = hdi.drop([column], axis=1)\n",
    "\n",
    "    #iloc selects only certain rows and columns, the last 6 columns are not interesting.\n",
    "    hdi = hdi.iloc[:, 1:-6]\n",
    "\n",
    "    #The column names are changed\n",
    "    hdi.columns = [\"country\"] + list(hdi.iloc[0, 1:])\n",
    "\n",
    "    #Again some dropping\n",
    "    hdi = hdi.iloc[2:,:]\n",
    "    return hdi"
   ]
  },
  {
   "cell_type": "markdown",
   "metadata": {},
   "source": [
    "The Gender Inequality Index (http://hdr.undp.org/en/composite/GII) is also directly scraped with the function below. The tables from the website had to be modified slightly by dropping unnecessary columns and rows, filling NA values, and adding appropiate column names. Due to the nature of the tables, trend versus composition, the rows and columns dropped differentiate between each other. "
   ]
  },
  {
   "cell_type": "code",
   "execution_count": 5,
   "metadata": {},
   "outputs": [],
   "source": [
    "def scraper_gii():\n",
    "    \"\"\"This function scrapes the Gender inequality index from the united nations development programme website\"\"\"\n",
    "    \n",
    "    url = \"http://hdr.undp.org/en/composite/GII\"\n",
    "    webpage = get(url)\n",
    "\n",
    "    #Now the BS4 library converts the webpage into a \"soup\"\n",
    "    html_soup = BeautifulSoup(webpage.text, \"html.parser\")\n",
    "    table = html_soup.find_all(\"table\")[0]\n",
    "\n",
    "    #Create an empty list to put all of the rows of the table in\n",
    "    l = []\n",
    "    #For every row in the table...\n",
    "    for tr in table.find_all(\"tr\"):\n",
    "        #Select all the values in that row\n",
    "        td = tr.find_all(\"td\")\n",
    "        #The row is all of the values in that row combined\n",
    "        row = [tr.text for tr in td]\n",
    "        #This is added to the list that will be turned into a dataframe later on\n",
    "        l.append(row)\n",
    "\n",
    "    #Now that there is a list of all the rows in the table, turn it into a pandas dataframe, using the relevant columns\n",
    "    gii = pd.DataFrame(l[3:231])   \n",
    "    #Set the NaN values\n",
    "    gii = gii.replace(\"..\", np.nan).replace(\"\", np.nan)\n",
    "    #More slicing\n",
    "    gii = gii.iloc[5:,1:3]\n",
    "    gii.columns = ['country','GII']\n",
    "    return gii"
   ]
  },
  {
   "cell_type": "code",
   "execution_count": 6,
   "metadata": {},
   "outputs": [],
   "source": [
    "#Call the scrape functions\n",
    "hdi = scraper_hdi()\n",
    "gii = scraper_gii()"
   ]
  },
  {
   "cell_type": "markdown",
   "metadata": {},
   "source": [
    "### 2.2.2 The World Bank Gender Statistics DataBank\n",
    "After looking at the overal relation between the GII and the HDI, the Gender Statistics DataBank was used to find more precise indicators. This databank of the World Bank contains 534 series (indicators) over 263 countries or areas in the world for the past 50 years. All the data from this source was downloaded from the DataBank as a CSV file. First the indicators were assessed to match relevant indicators with their corresponding articles in the Universal Declaration of Human Rights (Appendix A). Many of the indicators which related to gender equality were not directly linked to education or the labour market. There were also indicators regarding female participation in the labour market which contained almost no values for any of the countries. These indicators were dropped and in the end 6 indicators were considered apart from the GII and HDI (Table 1).\n",
    "\n",
    "| Data Indicator | Universal Declaration of Human Rights |\n",
    "| --- | --- |\n",
    "|Labor force, female and total (female and total workforce))|Article 23|\n",
    "|Ratio of female to male youth unemployment rate (% ages 15-24)|Article 23|\n",
    "|Educational attainment, at least completed primary, population 25+ years, female and male (%) (cumulative)|Article 26|\n",
    "|Educational attainment, at least completed lower secondary, population 25+ years, female and male (%)|Article 26|\n",
    "|Educational attainment, at least Bachelor's or equivalent, population 25+, female and male (%) (cumulative)|Article 26|\n",
    "| Gender Inequality Index | Article 7, Article 21, Article 25, Article 26|\n",
    "| Human Development Index | Article 3, Article 4, Article 26 |\n",
    "\n",
    "Tabel 1: the chosen indicators for the data analysis. The left column shows the indicator and its corresponding unit in brackets. The right column shows the corresponding article in the Universal Declarations."
   ]
  },
  {
   "cell_type": "code",
   "execution_count": 7,
   "metadata": {},
   "outputs": [],
   "source": [
    "def csv_reader(list_of_countries, file_name):\n",
    "    \"\"\"This function turns a csv file into a dataframe and returns it\"\"\"\n",
    "    \n",
    "    #Read the csv file where the values are splitted using a ;\n",
    "    #Be sure that the \"Data Python Assignment2.csv\" file is in the right place\n",
    "    df = pd.read_csv(file_name, delimiter = \";\",na_values = \"..\")\n",
    "\n",
    "    #Only take the selcted countries and the whole world into account for a more compact dataset\n",
    "    df = df[df[\"country code\"].isin(list_of_countries)]\n",
    "\n",
    "    #Because of deleting many of the rows, a new indexing is needed, the old one gets deleted as well\n",
    "    df = df.reset_index().iloc[:,1:]\n",
    "    return df"
   ]
  },
  {
   "cell_type": "markdown",
   "metadata": {},
   "source": [
    "Before the indicators from the datafile were used for the data analysis, a function was made to read the datafile into a dataframe and select only a specific group of countries (presented in a so-called 'list') and an average from the world from the entire dataframe. After the selection, the indexing is fixed in the function as well."
   ]
  },
  {
   "cell_type": "code",
   "execution_count": 8,
   "metadata": {},
   "outputs": [],
   "source": [
    "#Create a list of countries that we are interested in\n",
    "list_of_countries = [\"AUS\", \"BRA\", \"USA\", \"IRN\", \"ITA\", \"TUR\", \"NLD\", \"ZAF\", \"SWE\", \"SGP\", \"PAK\"]"
   ]
  },
  {
   "cell_type": "markdown",
   "metadata": {},
   "source": [
    "Now that the list of countries has been established, the according data can be loaded from the csv file."
   ]
  },
  {
   "cell_type": "code",
   "execution_count": 9,
   "metadata": {},
   "outputs": [],
   "source": [
    "#Read the world data bank csv file using the countries we are interested in\n",
    "df = csv_reader(list_of_countries, \"Data Python Assignment2.csv\")"
   ]
  },
  {
   "cell_type": "markdown",
   "metadata": {},
   "source": [
    "For the selection of countries for the visualization, the data was analyzed on missing values for the selected indicators in Table 1. In the selection, the aim was to have a diverse range of countries from different continents. In the end, 11 countries were seleced to write the functions with (list below).\n",
    "\n",
    "- Australia\n",
    "- Brazil\n",
    "- United States\n",
    "- Iran\n",
    "- Italy\n",
    "- Turkey\n",
    "- Netherlands\n",
    "- South Africa\n",
    "- Sweden\n",
    "- Singapore\n",
    "- Pakistan"
   ]
  },
  {
   "cell_type": "markdown",
   "metadata": {},
   "source": [
    "In the datafile, the indicators can be found in two ways: either by searching for the full name of an indicator or by using the code of the indicator. In order to get both efficiently, two functions were made: the first function would make a dictionary of with all the question codes (keys) and their corresponding question (values). The second function would use the dictionary to find the corresponding full name when the code is presented as an input."
   ]
  },
  {
   "cell_type": "code",
   "execution_count": 10,
   "metadata": {},
   "outputs": [],
   "source": [
    "def question_dict_maker(df):\n",
    "    \"\"\"This function makes a dictionary with all the questions (columns) in a dataframe and the way that they are coded\"\"\"\n",
    "    \n",
    "    question_df = df[[\"question\", \"code\"]]\n",
    "    question_dict = {}\n",
    "    for index, row in question_df.iterrows():\n",
    "        question_dict[row[1]] = row[0]\n",
    "    return question_dict   "
   ]
  },
  {
   "cell_type": "code",
   "execution_count": 11,
   "metadata": {},
   "outputs": [],
   "source": [
    "question_dict = question_dict_maker(df)"
   ]
  },
  {
   "cell_type": "code",
   "execution_count": 12,
   "metadata": {},
   "outputs": [],
   "source": [
    "def question_getter(question_code):\n",
    "    \"\"\"This function uses the created question dictionary and returns the full question when a code is given.\"\"\"\n",
    "    \n",
    "    question = question_dict[question_code]\n",
    "    return question"
   ]
  },
  {
   "cell_type": "code",
   "execution_count": 13,
   "metadata": {},
   "outputs": [
    {
     "data": {
      "text/plain": [
       "'Educational attainment, at least completed primary, population 25+ years, male (%) (cumulative)'"
      ]
     },
     "execution_count": 13,
     "metadata": {},
     "output_type": "execute_result"
    }
   ],
   "source": [
    "question_getter(\"SE.PRM.CUAT.MA.ZS\")"
   ]
  },
  {
   "cell_type": "markdown",
   "metadata": {},
   "source": [
    "## 2.3 Data Analysis Techniques\n",
    "This section will show the functions used for each of the research questions and how these functions were adjusted for the best result. The data analysis techniques are focused on data visualization in order to answer the questions. The order of the questions helps to gradually increase the understanding of the problem.\n",
    "\n",
    "The following subquestions focus on narrower indicators of prosperity, specifically education and employment. These two areas were chosen as it shows the personal developments and their opportunities seperated by gender."
   ]
  },
  {
   "cell_type": "markdown",
   "metadata": {},
   "source": [
    "### 2.3.1 Relation between HDI and GII\n",
    "\n",
    "The first explanatory analysis shows the values of the HDI and GII indices plotted on a world map. With a visual inspection it becomes clear which countries score high and low. To be able to show a world map, some helpfunctions are needed to link the data to a world map.\n",
    "\n",
    "The shapefile of the world needs to be inputted in a dataframe and the countries from the world need to be linked to the GII and HDI values. The other function makes sure that the country code is available in the dataframes HDI and GII. "
   ]
  },
  {
   "cell_type": "code",
   "execution_count": 14,
   "metadata": {},
   "outputs": [],
   "source": [
    "def shape_world():\n",
    "    \"\"\"This function creates the world as a dataframe of different countries, their country code and population\"\"\"\n",
    "    \n",
    "    path = gpd.datasets.get_path('naturalearth_lowres')\n",
    "    world = gpd.read_file(path)\n",
    "    return world"
   ]
  },
  {
   "cell_type": "code",
   "execution_count": 15,
   "metadata": {},
   "outputs": [],
   "source": [
    "world = shape_world()"
   ]
  },
  {
   "cell_type": "code",
   "execution_count": 16,
   "metadata": {},
   "outputs": [],
   "source": [
    "def merge_countries_for_world_map(dataframe):\n",
    "    \"\"\"This function takes a dataframe of HDI or GII data and merges the country name with the country code.\n",
    "   It also adjusts the way the country names are coded in the given dataframe to be able to merge it\n",
    "   \"\"\"\n",
    "    \n",
    "    #Create dataframe of country names and country codes\n",
    "    countrycodes = pd.read_csv(\"country_code.csv\", sep = \",\", encoding = \"utf-8\")\n",
    "\n",
    "    #Replace the () around some countries to fit in the format of countrycodes\n",
    "    dataframe[\"country\"] = dataframe[\"country\"].str.replace(\" (\", \", \", regex = False).str.replace(\")\", \"\")\n",
    "    \n",
    "    #Merge them\n",
    "    merged_df = dataframe.merge(countrycodes, on = \"country\", how = \"left\") \n",
    "    \n",
    "    return merged_df"
   ]
  },
  {
   "cell_type": "markdown",
   "metadata": {},
   "source": [
    "The two functions GII and HDI differ from each other due to the type of data scraped. HDI shows a trend over time while GII only has the last available year. For GII the function only shows a static image of the world with a layer of colour on it. Notice that the higher a country scores, the higher inequality it has thus performing worse. The function of HDI allows the parameters to become interactive, as you can change the year and show developments over time.  "
   ]
  },
  {
   "cell_type": "code",
   "execution_count": 19,
   "metadata": {},
   "outputs": [],
   "source": [
    "def world_value_gii(dataframe_cc, world):\n",
    "    \"\"\"This function creates a geoplot using the scraped information from the gender inequality index database.\"\"\"\n",
    "    \n",
    "    #Merge the GII dataframe with the given world dataframe and create a graph based on this combined information\n",
    "    world_dataframe = world.merge(dataframe_cc, left_on = \"iso_a3\", right_on = \"country code\", how = \"left\")\n",
    "    \n",
    "    world_dataframe[\"GII\"] = world_dataframe[\"GII\"].astype(\"float\")\n",
    "\n",
    "    #Create a plot, nine different clusters and equal intervals, where missing values are coloured differently\n",
    "    ax = world_dataframe.dropna().plot(column=\"GII\", scheme='equal_interval', figsize=(16, 8), k=9, legend=True)\n",
    "    world_dataframe[world_dataframe.isna().any(axis=1)].plot(ax=ax, color='#fafafa', hatch='...')\n",
    "    "
   ]
  },
  {
   "cell_type": "code",
   "execution_count": 20,
   "metadata": {},
   "outputs": [],
   "source": [
    "def world_value_hdi(dataframe_cc, world, column):\n",
    "    \"\"\"This function creates a geoplot using the scraped information from the human development index database.\"\"\"\n",
    "    \n",
    "    #Merge world database with HDI database\n",
    "    world_dataframe = world.merge(dataframe_cc, left_on = \"iso_a3\", right_on = \"country code\", how = \"left\" )\n",
    "\n",
    "    #Values need to change to float type and missing values become 0\n",
    "    world_dataframe.loc[:,\"1990\":\"2017\"] = world_dataframe.loc[:,\"1990\":\"2017\"].astype(\"float\")\n",
    "    \n",
    "    #Create a plot, nine different clusters and equal intervals, where missing values are coloured differently\n",
    "    ax = world_dataframe.dropna().plot(column=column, scheme='equal_interval', figsize=(16, 8), k=9, legend=True)\n",
    "    world_dataframe[world_dataframe.isna().any(axis=1)].plot(ax=ax, color='#fafafa', hatch='...')"
   ]
  },
  {
   "cell_type": "markdown",
   "metadata": {},
   "source": [
    "To find the relation between gender equality and the prosperity of any country, the existing GII will be plotted against the HDI. Both datasets which were scraped were converted to dataframes with their own functions. The functions also converted all the datavalues to floats and dropped the missing values. Then a function is used to merge the dataframes and draw a regression line between the datapoints in a scatterplot. The HDI is the independent variable while GII is the dependent. "
   ]
  },
  {
   "cell_type": "code",
   "execution_count": 21,
   "metadata": {},
   "outputs": [],
   "source": [
    "def hdi_and_gii_correlation(hdi, gii):\n",
    "    \"\"\"This function creates a plotly graph that shows both a scatter plot between the HDI and the GII\n",
    "    as a regression line with corresponding statisctical values so a conclusion can be made\n",
    "    \"\"\"\n",
    "    #Merge hdi and gii dataframes on country and drop missing values\n",
    "    hdi_and_gii = hdi.merge(gii, on = \"country\", how = \"inner\")\n",
    "    hdi_and_gii = hdi_and_gii[[\"country\", \"2017\", \"GII\"]].dropna()\n",
    "    \n",
    "    #Set up values from dataframe \n",
    "    hdi_x = hdi_and_gii[\"2017\"].astype(\"float\")\n",
    "    gii_y = hdi_and_gii[\"GII\"].astype(\"float\")\n",
    "    \n",
    "    #Fill in the regression values using scipy\n",
    "    slope, intercept, r_value, p_value, std_err = stats.linregress(hdi_x, gii_y)\n",
    "    #Create the line (which becomes our y values)\n",
    "    line = slope*hdi_x+intercept                                \n",
    "        \n",
    "    print(\"The R2 value is: %.3f. \\n The p value is: %.3f. \\n The SE is: %.3f.\" \n",
    "          % (r_value, p_value, std_err))\n",
    "    \n",
    "    #Create the scatter chart\n",
    "    datapoints = go.Scatter(\n",
    "        x = hdi_x,\n",
    "        y = gii_y,\n",
    "        mode = 'markers',\n",
    "        text = hdi_and_gii[\"country\"],\n",
    "        name = \"Data\"\n",
    "    )\n",
    "    \n",
    "    #Create the fitted line\n",
    "    fitline = go.Scatter(\n",
    "        x = hdi_x,\n",
    "        y = line,\n",
    "        name = \"Linear fit\"\n",
    "    )\n",
    "    \n",
    "    #Add text to the graph like title, xlabel, and ylabel. \n",
    "    layout = go.Layout(\n",
    "        title = \"HDI and GII correlated with a linear fit\",\n",
    "        xaxis = dict(\n",
    "            title = \"HDI\"),\n",
    "        yaxis = dict(\n",
    "            title = \"GII\"),\n",
    "    )\n",
    "\n",
    "    #Add them together and return them\n",
    "    data = [datapoints, fitline]\n",
    "    fig = go.Figure(data=data, layout=layout)\n",
    "    \n",
    "    \n",
    "    return(py.iplot(fig, filename='hdi-and-gii'))"
   ]
  },
  {
   "cell_type": "markdown",
   "metadata": {},
   "source": [
    "An additional zoomed function has also been used to find the top and bottom X countries in both the GII and the HDI in 2017. This gives the reader a faster understanding which countries are on the extreme end. "
   ]
  },
  {
   "cell_type": "code",
   "execution_count": 22,
   "metadata": {},
   "outputs": [],
   "source": [
    "def top_x_gii_countries(x, asc=True):\n",
    "    \"\"\"This function takes an integer and returns the best x scoring countries on the Gender inequality index.\n",
    "    When a second argument False is given, the lowest x countries are returned.\n",
    "    \"\"\"\n",
    "    \n",
    "    top_x_countries = gii.dropna().sort_values(by = \"GII\", ascending = asc)[:x].reset_index(drop=True)\n",
    "    return top_x_countries"
   ]
  },
  {
   "cell_type": "code",
   "execution_count": 23,
   "metadata": {},
   "outputs": [],
   "source": [
    "def top_x_hdi_countries(x, asc=False):\n",
    "    \"\"\"This function takes an integer and returns the best x scoring countries on the Human Development Index.\n",
    "    When a second argument True is given, the lowest x countries are returned.\n",
    "    \"\"\"\n",
    "    \n",
    "    top_x_countries = hdi.dropna().sort_values(by = \"2017\", ascending = asc)[:x].reset_index(drop=True)\n",
    "    return top_x_countries[[\"country\", \"2017\"]]"
   ]
  },
  {
   "cell_type": "markdown",
   "metadata": {},
   "source": [
    "### 2.3.2 Differing educational attainment\n",
    "To find out the level of education of both genders in different countries, the following indicators of Table 1 were used: primary, lower secondary and tertiary educational attainment by men and women. To find a trend in the percentage of educated citizens, a view will be given that distinguishes men from women using different colors. By using an interactive function, the year can be adjusted. A warning is that the missing data is not filled with other data because there was too much missing data to fill. Interpolation would give inaccurate results, therefore the bar chart might miss some values. A helpfunction called country_df_maker is seperated due to its use in multiple functions. It changes the index of the countries. "
   ]
  },
  {
   "cell_type": "code",
   "execution_count": 24,
   "metadata": {},
   "outputs": [],
   "source": [
    "def country_df_maker(df):\n",
    "    \"\"\"This function creates a dataframe of only the unique countries in a given dataframe.\n",
    "    It changes the index into the countries which comes in handy when creating graphs\n",
    "    \"\"\"\n",
    "    \n",
    "    countries = pd.DataFrame(df['country name'].unique())\n",
    "    countries.rename(columns={0: 'Country'}, inplace=True)\n",
    "    countries_complete = countries.set_index('Country')\n",
    "    return countries_complete"
   ]
  },
  {
   "cell_type": "code",
   "execution_count": 25,
   "metadata": {},
   "outputs": [],
   "source": [
    "def education_levels(year, df):\n",
    "    \"\"\"This functon creates multiple horizontal bar plots \n",
    "    that indicate the education levels of different countries in a chosen year.\n",
    "    The function uses the accumulate deducation of a person, \n",
    "    so that the primary education is always higher than the secondary and so on.\n",
    "    \"\"\"\n",
    "    \n",
    "    #The dataframes for both genders and all education levels are retrieved.\n",
    "    pri_ed_female = df[(df['code'] == 'SE.PRM.CUAT.FE.ZS')]\n",
    "    pri_ed_male = df[(df['code'] == 'SE.PRM.CUAT.MA.ZS')]\n",
    "    sec_ed_female = df[(df['code'] == 'SE.SEC.CUAT.UP.FE.ZS')]\n",
    "    sec_ed_male = df[(df['code'] == 'SE.SEC.CUAT.UP.MA.ZS')]\n",
    "    ter_degree_female = df[(df['code'] == 'SE.TER.HIAT.BA.FE.ZS')]\n",
    "    ter_degree_male = df[(df['code'] == 'SE.TER.HIAT.BA.MA.ZS')]\n",
    "    \n",
    "    #The countries are added to the dataframes.\n",
    "    countries_local = country_df_maker(df)\n",
    "    countries_local['Male Primary Education'] = pri_ed_male[year].values\n",
    "    countries_local['Female Primary Education'] = pri_ed_female[year].values\n",
    "    countries_local['Male Secondary Education'] = sec_ed_male[year].values\n",
    "    countries_local['Female Secondary Education'] = sec_ed_female[year].values\n",
    "    countries_local['Male graduates'] = ter_degree_male[year].values\n",
    "    countries_local['Female graduates'] = ter_degree_female[year].values\n",
    "    countries_local.plot.barh(figsize=(20,20), \n",
    "                              color = [\"lightblue\",\"lavenderblush\",\"deepskyblue\",\"pink\",\"mediumblue\", \"palevioletred\"])\n",
    "    plt.title('Educational attainment, completed Bachelors or equivalent, population 25+ years (%)')"
   ]
  },
  {
   "cell_type": "markdown",
   "metadata": {},
   "source": [
    "Furthermore, the completed tertiary education metric will be used specifically in other analysis. A seperate bar chart of this is made, this gives a simpler and easier overview of the relevant data."
   ]
  },
  {
   "cell_type": "code",
   "execution_count": 26,
   "metadata": {},
   "outputs": [],
   "source": [
    "def educational_attainment(year, df):\n",
    "    \"\"\"This function creates a plot of the percentage of graduate males and females in a given year, \n",
    "    using chosen countries in a dataframe.\n",
    "    \"\"\"\n",
    "    \n",
    "    #Some years are removed due to many missing values\n",
    "    education_df = df.iloc[:, 1:-3]\n",
    "    \n",
    "    #Find the data for both genders and interpolate the missing data using the data that is not missing.\n",
    "    ter_degree_female = education_df[(education_df['code'] == 'SE.TER.HIAT.BA.FE.ZS')]\n",
    "    ter_degree_female = ter_degree_female.iloc[:,3:].interpolate(method=\"linear\", axis=1)\n",
    "    ter_degree_male = education_df[(education_df['code'] == 'SE.TER.HIAT.BA.MA.ZS')]\n",
    "    ter_degree_male = ter_degree_male.iloc[:, 3:].interpolate(method=\"linear\", axis=1)\n",
    "    \n",
    "    #Use the country_df_maker to create a dataframe with the unique countries in the dataframe\n",
    "    countries_local = country_df_maker(df)\n",
    "    #Make new columns with the number of graduates of both genders\n",
    "    countries_local['Male graduates'] = ter_degree_male[year].values\n",
    "    countries_local['Female graduates'] = ter_degree_female[year].values\n",
    "    #Plot the number of graduates of both genders for all the different countries.\n",
    "    countries_local.plot.barh(figsize=(20,10), color = [\"lightblue\",\"lightpink\"])\n",
    "    plt.title(\"Educational attainment, completed Bachelor's or equivalent, population 25+ years (%)\")"
   ]
  },
  {
   "cell_type": "markdown",
   "metadata": {},
   "source": [
    "### 2.3.3 Linking education to employment\n",
    "Where the answer to subquestion 2 shows the difference in education between men and women, and a level of education in different countries, the answer to subquestion 3 will show a relation between tertiary education and the employment ratio of women in different countries. The helpfunction creates a dataframe with only one indicator, in order to merge them later on so analysis will be more convenient. It fills the missing data by linear interpolation as there is enough data available. "
   ]
  },
  {
   "cell_type": "code",
   "execution_count": 27,
   "metadata": {},
   "outputs": [],
   "source": [
    "def get_edu_ind(ind):\n",
    "    \"\"\"This function takes a question code and returns a dataframe that only consists of this question code.\n",
    "    It also interpolates the missing data and should only be used with questions about education, \n",
    "    because the data preparation is based on these questions\n",
    "    \"\"\"\n",
    "    \n",
    "    #Make a dataframe only containing the needed questions\n",
    "    education_df = df[df[\"code\"] == ind]\n",
    "    #Some years are removed due to many missing values, \n",
    "    #the deleted years have missing values specifically in the education subject\n",
    "    education_df = education_df.iloc[:, 1:-3]\n",
    "    \n",
    "    #Interpolation takes place to deal with remaining missing values\n",
    "    education_df.iloc[:, 3:] = education_df.iloc[:, 3:].interpolate(method=\"linear\", axis=1)\n",
    "    \n",
    "    return education_df"
   ]
  },
  {
   "cell_type": "markdown",
   "metadata": {},
   "source": [
    "The figure will show two graphs side by side with the independent variable on the Y-axis, namely the countries. The dependent variables are completed tertiary education placed next to the ratio of female and male employment. This technique is used because the visualization intuitively shows if the two variables are correlated with each other. "
   ]
  },
  {
   "cell_type": "code",
   "execution_count": 28,
   "metadata": {},
   "outputs": [],
   "source": [
    "def education_and_employment(year):\n",
    "    \"\"\"This function creates a duoplot given a year. The selected countries are ordered by the percentage of graduate women.\n",
    "    In this order these percentages are shown on the left side of the plot, while the employment ratio is shown on the right\n",
    "    This way the duoplot shows a link between the education and the employment\n",
    "    \"\"\"\n",
    "    \n",
    "    #To make the graph interactive, we need variables dependent on the year input\n",
    "    year_code_x = year + \"_x\"\n",
    "    year_code_y = year + \"_y\"\n",
    "    \n",
    "    #Using the eductation dataframe maker, we get the needed columns as a dataframe\n",
    "    employment_df = get_edu_ind(\"SL.EMP.TOTL.SP.FE.ZS\")\n",
    "    tertiary_df = get_edu_ind(\"SE.TER.HIAT.BA.FE.ZS\")\n",
    "    \n",
    "    #To be able to sort the data by year, we turn the year into a float type\n",
    "    tertiary_df[year] = tertiary_df[year].astype(\"float\")\n",
    "    tertiary_df = tertiary_df.sort_values(by = year)\n",
    "    \n",
    "    #Here we merge the education and employment dataframes of the country name, using the created year variables \n",
    "    tert_and_emp_df = tertiary_df.merge(employment_df, how = \"inner\", on = \"country name\")\n",
    "    [[\"country name\", year_code_x, year_code_y]]\n",
    "    \n",
    "    #Set up the values from the dataframe\n",
    "    y_tert = tert_and_emp_df[year_code_x].tolist()\n",
    "    y_emp = tert_and_emp_df[year_code_y].tolist()\n",
    "\n",
    "    x_tert = tert_and_emp_df[\"country name\"].tolist()\n",
    "    x_emp = tert_and_emp_df[\"country name\"].tolist()\n",
    "\n",
    "    #Make bar graph and input parameters\n",
    "    bar_graph = go.Bar(\n",
    "        #Input data\n",
    "        x = y_tert,\n",
    "        y = x_tert,\n",
    "        #Colors of the bars and their borders\n",
    "        marker = dict(color='rgb(102, 153, 204)', line=dict(color='rgb(0, 0, 0)',\n",
    "                width=1),\n",
    "        ),\n",
    "        #Name used in the legend\n",
    "        name = 'Completed tertiary education, percentage women',\n",
    "        #Horizaontal orientation\n",
    "        orientation = 'h',\n",
    "    )\n",
    "\n",
    "    #Make scatter graph and input parameters\n",
    "    scatter_graph = go.Scatter(\n",
    "        #Input data\n",
    "        x = y_emp,\n",
    "        y = x_emp,\n",
    "        #Only dots are shown, without a line\n",
    "        mode = 'markers',\n",
    "        #Color of the dots\n",
    "        line = dict(\n",
    "            color = 'rgb(255, 0, 0)'),\n",
    "        #Name used in the legend\n",
    "        name = 'Employment ratio, percentage male and female',\n",
    "    )\n",
    "\n",
    "    #Overall layout, design, and placement graphs\n",
    "    layout = dict(\n",
    "        #Title of the graoh\n",
    "        title='Tertiary education & employment ratio',\n",
    "        #Y-axis of barplot\n",
    "        yaxis=dict(\n",
    "            showgrid=False,\n",
    "            showline=False,\n",
    "            showticklabels=True,\n",
    "            domain=[0, 0.85],\n",
    "        ),\n",
    "        #Y-axis of the scatterplot\n",
    "        yaxis2=dict(\n",
    "            showgrid=False,\n",
    "            showline=True,\n",
    "            showticklabels=False,\n",
    "            #The color of the line that seperates the two graphs\n",
    "            linecolor='rgba(102, 102, 102, 0.8)',\n",
    "            linewidth=2,\n",
    "            domain=[0, 0.85],\n",
    "        ),\n",
    "        xaxis=dict(\n",
    "            title = \"Completed tertiary education in %\",\n",
    "            zeroline=False,\n",
    "            showline=False,\n",
    "            showticklabels=True,\n",
    "            showgrid=True,\n",
    "            domain=[0, 0.42],\n",
    "        ),\n",
    "        xaxis2=dict(\n",
    "            title = \"Employment ratio male and female in %\",\n",
    "            zeroline=False,\n",
    "            showline=False,\n",
    "            showticklabels=True,\n",
    "            showgrid=True,\n",
    "            domain=[0.47, 1],\n",
    "            side='top',\n",
    "            dtick=10,\n",
    "        ),\n",
    "        legend=dict(\n",
    "            x=0.029,\n",
    "            y=1.038,\n",
    "            font=dict(\n",
    "                size=10,\n",
    "            ),\n",
    "        ),\n",
    "        margin=dict(\n",
    "            l=100,\n",
    "            r=20,\n",
    "            t=70,\n",
    "            b=70,\n",
    "        ),\n",
    "        paper_bgcolor='rgb(248, 248, 255)',\n",
    "        plot_bgcolor='rgb(248, 248, 255)',\n",
    "        )\n",
    "    \n",
    "    #Make an empty list used to store labels/annotations in later\n",
    "    annotations = []\n",
    "    \n",
    "    #Amount of values \n",
    "    y_s = np.round(y_tert, decimals=2)\n",
    "    y_nw = np.round(y_emp, decimals=2)\n",
    "\n",
    "    # Adding labels\n",
    "    for ydn, yd, xd in zip(y_nw, y_s, x_tert):\n",
    "        #labeling the scatter\n",
    "        annotations.append(dict(xref='x2', yref='y2',\n",
    "                                y=xd, x=ydn + 3,\n",
    "                                text='{:,}'.format(ydn) + \"%\",\n",
    "                                font=dict(family='Arial', size=12,\n",
    "                                          color='rgb(255, 0, 0)'),\n",
    "                                showarrow=False))\n",
    "        #labeling the bar\n",
    "        annotations.append(dict(xref='x1', yref='y1',\n",
    "                                y=xd, x=yd + 3,\n",
    "                                text=str(yd) + '%',\n",
    "                                font=dict(family='Arial', size=10,\n",
    "                                          color='rgb(102, 153, 204)'),\n",
    "                                showarrow=False))\n",
    "\n",
    "    layout['annotations'] = annotations\n",
    "\n",
    "    #Creating two subplots\n",
    "    fig = tools.make_subplots(rows=1, cols=2, specs=[[{}, {}]], shared_xaxes=True,\n",
    "                              shared_yaxes=False, vertical_spacing=0.001)\n",
    "\n",
    "    fig.append_trace(bar_graph, 1, 1)\n",
    "    fig.append_trace(scatter_graph, 1, 2)\n",
    "\n",
    "    fig['layout'].update(layout)\n",
    "    return(py.iplot(fig, filename='tertiary_education_and_employment_ratio'))"
   ]
  },
  {
   "cell_type": "markdown",
   "metadata": {},
   "source": [
    "### 2.3.4 The role of women in the labour market"
   ]
  },
  {
   "cell_type": "markdown",
   "metadata": {},
   "source": [
    "To further examine the role that women play in the world of education and labour, the part of the labour market that is occupied by women will be shown in the answer to subquestion 4. A series of pie charts will show the distribution of men and women in the labour market in different countries for different selectable years.\n",
    "\n",
    "The second part of the function down below will show these distributions in a stacked bar plot, where the differences in population can also be seen. The combination of these plots show the footprint of women in the world's labour market.\n",
    "\n",
    "It gives a simple overview of gender equality in the workforce by country and it is possible to look at trends through the years."
   ]
  },
  {
   "cell_type": "code",
   "execution_count": 29,
   "metadata": {},
   "outputs": [],
   "source": [
    "def labour_force(year, df):\n",
    "    \"\"\"This function creates multiple pie charts and a stacked barplot\n",
    "    considering the way that labour force is divided over the genders in different countries. \n",
    "    It also shows the differences between countries in the bar plot\n",
    "    \"\"\"\n",
    "    \n",
    "    #Select the needed questions and cut out some of the columns to only keep the ones needed to create a graph.\n",
    "    labour_force_female = df[(df['code'] == 'SL.TLF.TOTL.FE.IN')]\n",
    "    labour_force_female = labour_force_female.iloc[:,2:]\n",
    "    labour_force_female = labour_force_female.drop(['country code'], axis = 1)\n",
    "    \n",
    "    #Also rename the columns in order to get a good name for the x-axis\n",
    "    labour_force_female.rename(columns={'country name': 'Country'}, inplace=True)\n",
    "    labour_force_female = labour_force_female.set_index('Country')\n",
    "    \n",
    "    #Do the same thing for the total labour force\n",
    "    labour_force_total = df[(df['code'] == 'SL.TLF.TOTL.IN')]\n",
    "    labour_force_total = labour_force_total.iloc[:,2:]\n",
    "    labour_force_total = labour_force_total.drop(['country code'], axis = 1) \n",
    "    labour_force_total.rename(columns={'country name': 'Country'}, inplace=True)\n",
    "    labour_force_total = labour_force_total.set_index('Country')\n",
    "    \n",
    "    #Now that both the total labour force and the female labour force are calculated, \n",
    "    #the male labour force can be calculated as well\n",
    "    labour_force_male = labour_force_total.subtract(labour_force_female, axis = 1)\n",
    "    \n",
    "    #Now combine the country names with the data to create the wanted graphs.\n",
    "    countries_local = country_df_maker(df)\n",
    "    countries_local['Male Workforce'] = labour_force_male[year].values\n",
    "    countries_local['Female Workforce'] = labour_force_female[year].values\n",
    "    countries_local.T.plot.pie(subplots=True, figsize=(40, 5),legend = False, colors = ['lightblue','palevioletred'])\n",
    "    countries_local.plot(kind = 'bar', stacked = True, color = ['lightblue','palevioletred'])\n",
    "    plt.title('Labour Force (Male and Female)')"
   ]
  },
  {
   "cell_type": "markdown",
   "metadata": {},
   "source": [
    "### 2.3.5 The influence of the unemployment ratio women/man on the GDP of a country"
   ]
  },
  {
   "cell_type": "markdown",
   "metadata": {},
   "source": [
    "In order to further elaborate on the impact of gender inequality on the prosperity of a country, the relation between inequality and GDP will be presented using the function down below. In this case inequality will be represented by the ratio between unemployed men and unemployed women, which shows the relative number of women that is active in the labour market. The relation between these two variables will be shown using a scatterplot . The size of the points (countries) in this plot are dependent on the population of a country, so the function will contain  more information than the two mentioned features.\n",
    "\n",
    "This visual presentation picks a specific part of the labor force, namely unemployment. Unemployment helps "
   ]
  },
  {
   "cell_type": "code",
   "execution_count": 30,
   "metadata": {},
   "outputs": [],
   "source": [
    "def employment_and_gdp(year, df):\n",
    "    \"\"\"This function creates a scatter plot considering the employment in different countries for a chosen year.\n",
    "    THe x-axis is about the number of females that are unemployed per male, \n",
    "    to indicate the difference in working between the genders.\n",
    "    The y-axis shows the GDP that a country generates in a chosen year.\n",
    "    The size of the dots is an extra feature that indicate the population of the country\n",
    "    \"\"\"\n",
    "    \n",
    "    #Because the function will be used as an interactive one, some year variables are needed. \n",
    "    year_code_x = year + \"_x\"\n",
    "    year_code_y = year + \"_y\"\n",
    "    #Create a dataframe with only the GDP per capita\n",
    "    df_gdp = df[df['code'] == \"NY.GDP.PCAP.CD\"]\n",
    "    #And one of the data in the chosen year\n",
    "    df_gdp_year = df_gdp[['country name',year]]\n",
    "    \n",
    "    #Also create a dataframe of the population of the different countries\n",
    "    df_pop = df[df['code'] == \"SP.POP.TOTL\"]\n",
    "    df_pop_year = df_pop[['country name',year]]\n",
    "    \n",
    "    #Create a combined dataframe to be able to generate the wanted graph\n",
    "    df_gdp_pop = df_pop_year.merge(df_gdp_year, on = \"country name\", how = \"inner\")\n",
    "\n",
    "    df_fm_ratio = df[df['code'] == \"SL.UEM.1524.FM.ZS\"]\n",
    "    df_fm_ratio_year = df_fm_ratio[['country name',year]]\n",
    "    \n",
    "    #Also merge the dataframe with the third variable\n",
    "    df_gdp_equality = df_gdp_pop.merge(df_fm_ratio_year, on = \"country name\", how = \"inner\")\n",
    "    df_gdp_equality.rename(columns={year_code_x: 'Population', year_code_y:'GDP per capita [in USD]',\n",
    "                                    year:'Female to male youth unemployment rate'}, inplace=True)\n",
    "    df_gdp_equality = df_gdp_equality.set_index('country name')\n",
    "    #The variables of this plot are based on trial and error to include all the chosen countries \n",
    "    #but not show too much clean space.\n",
    "    df_gdp_equality.plot.scatter('Female to male youth unemployment rate','GDP per capita [in USD]',\n",
    "                                 s=df_gdp_equality.Population/100000,figsize=(20,10),xlim=(60,250),ylim=(0, 70000),alpha=0.5)\n",
    "    plt.grid(True)\n",
    "    \n",
    "    #To make clear what dot belongs to which country, \n",
    "    #the names of the countries are added using the values of the country to get it in the right spot.\n",
    "    for index, row in df_gdp_equality.iterrows():\n",
    "        plt.text(row[2],  row[1], index)"
   ]
  },
  {
   "cell_type": "markdown",
   "metadata": {},
   "source": [
    "### 2.3.6 Trend of education for men and women"
   ]
  },
  {
   "cell_type": "markdown",
   "metadata": {},
   "source": [
    "By answering the last subquestion, trends in the education rate of both men and women will appear, possibly showing a point where women overtake men. The real values will be shown, as well as the function of the created prediction. Using numpy, a prediction is made based on the built-in polyfit function. An interactive polynomial leaves room for finding te optimal fit in order to predict the trend in the best way possible."
   ]
  },
  {
   "cell_type": "code",
   "execution_count": 31,
   "metadata": {},
   "outputs": [],
   "source": [
    "def education_predictor(country_code, male_education, female_education, polynom=1):\n",
    "    \"\"\"This function creates four linegraphs that show the development of education in different countries.\n",
    "    Both genders are represented as well as a predicting mathematic function.\n",
    "    This shows trends in the education rate as well as differences between the genders.\n",
    "    \"\"\"\n",
    "    \n",
    "    #A list of countries used to check the row index by. \n",
    "    countries = male_education['country code'].unique().tolist()\n",
    "    country_row = countries.index(country_code)\n",
    "\n",
    "    #Set up values from the dataframe depending on the country\n",
    "    male_x = [2008, 2009, 2010, 2011, 2012, 2013, 2014]\n",
    "    male_y = male_education.iloc[country_row, 3:10]\n",
    "    \n",
    "    female_x = [2008, 2009, 2010, 2011, 2012, 2013, 2014]\n",
    "    female_y = female_education.iloc[country_row, 3:10]\n",
    "    \n",
    "    #Use a polyfit to predict\n",
    "    male_z = np.polyfit(male_x, male_y, polynom)\n",
    "    male_f = np.poly1d(male_z)\n",
    "    \n",
    "    female_z = np.polyfit(female_x, female_y, polynom)\n",
    "    female_f = np.poly1d(female_z)\n",
    "    \n",
    "    #Plot the predicted values \n",
    "    male_x_new = np.linspace(2008, 2018, 10)\n",
    "    male_y_new = male_f(male_x_new)\n",
    "\n",
    "    female_x_new = np.linspace(2008, 2018, 10)\n",
    "    female_y_new = female_f(female_x_new)\n",
    "\n",
    "\n",
    "    #Make the graph with the four lines showing the completed and predicted lines of both female and male\n",
    "    male_data = go.Scatter(\n",
    "        x = male_x,\n",
    "        y = male_y,\n",
    "        name = \"Male completed tertiary education %\"\n",
    "    )\n",
    "\n",
    "    male_new_data = go.Scatter(\n",
    "        x = male_x_new,\n",
    "        y = male_y_new,\n",
    "        name = \"Male predicted completed tertiary education %\"\n",
    "    )\n",
    "\n",
    "    female_data = go.Scatter(\n",
    "        x = female_x,\n",
    "        y = female_y,\n",
    "        name = \"Female completed tertiary education %\"\n",
    "    )\n",
    "\n",
    "    female_new_data = go.Scatter(\n",
    "        x = female_x_new,\n",
    "        y = female_y_new,\n",
    "        name = \"Female predicted completed tertiary education %\"\n",
    "    )\n",
    "    \n",
    "    #Change the layout so that the legend is shown horizontally \n",
    "    layout = go.Layout(\n",
    "        title = \"Predicted trend tertiary education\",\n",
    "        legend=dict(orientation=\"h\"),\n",
    "        yaxis = dict(\n",
    "            title = \"Completed tertiary education in %\")\n",
    "    )\n",
    "    \n",
    "    data = [male_data, male_new_data, female_data, female_new_data]\n",
    "    fig = go.Figure(data=data, layout=layout)\n",
    "\n",
    "    return(py.iplot(fig, filename='predicted-tertiary-education'))"
   ]
  },
  {
   "cell_type": "markdown",
   "metadata": {},
   "source": [
    "# 3. Results"
   ]
  },
  {
   "cell_type": "markdown",
   "metadata": {},
   "source": [
    "## 3.1 Relation between HDI and GII"
   ]
  },
  {
   "cell_type": "code",
   "execution_count": 32,
   "metadata": {
    "scrolled": false
   },
   "outputs": [
    {
     "name": "stderr",
     "output_type": "stream",
     "text": [
      "C:\\Users\\newbi\\Anaconda3\\lib\\site-packages\\pysal\\__init__.py:65: VisibleDeprecationWarning:\n",
      "\n",
      "PySAL's API will be changed on 2018-12-31. The last release made with this API is version 1.14.4. A preview of the next API version is provided in the `pysal` 2.0 prelease candidate. The API changes and a guide on how to change imports is provided at https://pysal.org/about\n",
      "\n"
     ]
    },
    {
     "data": {
      "image/png": "[encoded data removed]",
      "text/plain": [
       "<Figure size 1152x576 with 1 Axes>"
      ]
     },
     "metadata": {},
     "output_type": "display_data"
    }
   ],
   "source": [
    "gii_cc = merge_countries_for_world_map(gii)\n",
    "world_value_gii(gii_cc, world)"
   ]
  },
  {
   "cell_type": "markdown",
   "metadata": {},
   "source": [
    "The graph above shows all the countries in the world and filled with their corresponding colour. The first thing that jumps out is the many missing values in Africa. Maybe these countries did not want to give up on this data, or they had hard times generating the data. Also it seems that a clear order can be made out of the different continents. Europe is the most gender equal, followd by North-America, South-America, Asia and Africa.\n",
    "\n",
    "Another interesting feature of the way that these GII values have been calculated (hdr, 2018) is the bias towards women being on the downside of the inequality of genders in the world. Although this is mostly the case with inequality, it is not proper to assume that only women can be threated in a lesser way. It is also interesting to look at the compartments of the GII, which are health, empowerment and labour market. It could be interesting to find out if the value of these parts for all citizens are related to the GII, which would explain the order of the continents.\n",
    "\n",
    "A last finding is that None of the countries are exactly gender equal, which is in line with other research (Kleven et al., 2018; Dhar et al., 2018).\n",
    "\n",
    "The findings in this graph have lead to the selection of countries made in the rest of the analyses and are selected due to their differing GII values. Although this country selection is easily changable, the results of this research are based on the selection made earlier in this notebook, which is the result of this graph."
   ]
  },
  {
   "cell_type": "code",
   "execution_count": 33,
   "metadata": {},
   "outputs": [
    {
     "data": {
      "application/vnd.jupyter.widget-view+json": {
       "model_id": "b1516ebfae284999acbc9a087cc91b9c",
       "version_major": 2,
       "version_minor": 0
      },
      "text/plain": [
       "interactive(children=(Dropdown(description='column', options=('1990', '2000', '2010', '2012', '2014', '2015', …"
      ]
     },
     "metadata": {},
     "output_type": "display_data"
    },
    {
     "data": {
      "text/plain": [
       "<function __main__.world_value_hdi(dataframe_cc, world, column)>"
      ]
     },
     "execution_count": 33,
     "metadata": {},
     "output_type": "execute_result"
    }
   ],
   "source": [
    "hdi_cc = merge_countries_for_world_map(hdi)\n",
    "interact(world_value_hdi, dataframe_cc = fixed(hdi_cc),\n",
    "         world = fixed(world), column = [\"1990\", \"2000\", \"2010\", \"2012\", \"2014\", \"2015\", \"2016\", \"2017\"])"
   ]
  },
  {
   "cell_type": "markdown",
   "metadata": {},
   "source": [
    "The interactive Human Developments Index (HDI) has the following components used to calculate the index: life expectancy at brith, expected years of schooling, years of schooling, and gross national income per capita. As shown it includes areas like health, education, and standard of living. The index is mostly used to show opportunities in personal development, however does not include factors like inequality (Human Development Index (HDI) | Human Development Reports, 2018). The HDI is used for this analysis to incorporate the broad sense of prosperity. \n",
    "\n",
    "The graph shows that majority of the world has slowly increased the HDI, as the top of the countries are near the values 0.98-0.95 while in 1990 it was still 0.71 - 0.87. The danger in interpreting this graph is also the changing legend which makes comparisons visually hard to see, however relative differences are more apparent. It is clear that Russia does not grow in HDI as much as other countries. \n",
    "\n",
    "Human Development Index (HDI) | Human Development Reports. (2018). Hdr.undp.org. Retrieved 2 November 2018, from http://hdr.undp.org/en/content/human-development-index-hdi"
   ]
  },
  {
   "cell_type": "code",
   "execution_count": 34,
   "metadata": {},
   "outputs": [
    {
     "name": "stdout",
     "output_type": "stream",
     "text": [
      "The R2 value is: -0.910. \n",
      " The p value is: 0.000. \n",
      " The SE is: 0.041.\n"
     ]
    },
    {
     "data": {
      "text/html": [
       "<iframe id=\"igraph\" scrolling=\"no\" style=\"border:none;\" seamless=\"seamless\" src=\"https://plot.ly/~Group16FreeBot2/4.embed\" height=\"525px\" width=\"100%\"></iframe>"
      ],
      "text/plain": [
       "<plotly.tools.PlotlyDisplay object>"
      ]
     },
     "execution_count": 34,
     "metadata": {},
     "output_type": "execute_result"
    }
   ],
   "source": [
    "hdi_and_gii_correlation(hdi, gii)"
   ]
  },
  {
   "cell_type": "markdown",
   "metadata": {},
   "source": [
    "The correlated HDI and GII graph shows that there is a clear linear line between gender inequality and human development index, which is also plotted. By moving over the dots it shows the country name as well. The regression slope is negative as a GII of 0 is specified to be as equal. In simple words, how equal a country is how higher the HDI is. \n",
    "\n",
    "The p-value of the regression line shows that it is under 0.05 which shows significant linearity. The formula is y = 1.17 - 1.14 * x for x inbetween 0 and 1. For further interpretation the assumptions of regression analysis needs to be met, this is outside the scope of this research. "
   ]
  },
  {
   "cell_type": "code",
   "execution_count": 35,
   "metadata": {},
   "outputs": [
    {
     "data": {
      "text/html": [
       "<div>\n",
       "<style scoped>\n",
       "    .dataframe tbody tr th:only-of-type {\n",
       "        vertical-align: middle;\n",
       "    }\n",
       "\n",
       "    .dataframe tbody tr th {\n",
       "        vertical-align: top;\n",
       "    }\n",
       "\n",
       "    .dataframe thead th {\n",
       "        text-align: right;\n",
       "    }\n",
       "</style>\n",
       "<table border=\"1\" class=\"dataframe\">\n",
       "  <thead>\n",
       "    <tr style=\"text-align: right;\">\n",
       "      <th></th>\n",
       "      <th>country</th>\n",
       "      <th>GII</th>\n",
       "    </tr>\n",
       "  </thead>\n",
       "  <tbody>\n",
       "    <tr>\n",
       "      <th>0</th>\n",
       "      <td>Switzerland</td>\n",
       "      <td>0.039</td>\n",
       "    </tr>\n",
       "    <tr>\n",
       "      <th>1</th>\n",
       "      <td>Denmark</td>\n",
       "      <td>0.040</td>\n",
       "    </tr>\n",
       "    <tr>\n",
       "      <th>2</th>\n",
       "      <td>Netherlands</td>\n",
       "      <td>0.044</td>\n",
       "    </tr>\n",
       "    <tr>\n",
       "      <th>3</th>\n",
       "      <td>Sweden</td>\n",
       "      <td>0.044</td>\n",
       "    </tr>\n",
       "    <tr>\n",
       "      <th>4</th>\n",
       "      <td>Norway</td>\n",
       "      <td>0.048</td>\n",
       "    </tr>\n",
       "    <tr>\n",
       "      <th>5</th>\n",
       "      <td>Belgium</td>\n",
       "      <td>0.048</td>\n",
       "    </tr>\n",
       "    <tr>\n",
       "      <th>6</th>\n",
       "      <td>Slovenia</td>\n",
       "      <td>0.054</td>\n",
       "    </tr>\n",
       "    <tr>\n",
       "      <th>7</th>\n",
       "      <td>Finland</td>\n",
       "      <td>0.058</td>\n",
       "    </tr>\n",
       "    <tr>\n",
       "      <th>8</th>\n",
       "      <td>Iceland</td>\n",
       "      <td>0.062</td>\n",
       "    </tr>\n",
       "    <tr>\n",
       "      <th>9</th>\n",
       "      <td>Korea, Republic of</td>\n",
       "      <td>0.063</td>\n",
       "    </tr>\n",
       "  </tbody>\n",
       "</table>\n",
       "</div>"
      ],
      "text/plain": [
       "              country    GII\n",
       "0         Switzerland  0.039\n",
       "1             Denmark  0.040\n",
       "2         Netherlands  0.044\n",
       "3              Sweden  0.044\n",
       "4              Norway  0.048\n",
       "5             Belgium  0.048\n",
       "6            Slovenia  0.054\n",
       "7             Finland  0.058\n",
       "8             Iceland  0.062\n",
       "9  Korea, Republic of  0.063"
      ]
     },
     "execution_count": 35,
     "metadata": {},
     "output_type": "execute_result"
    }
   ],
   "source": [
    "top_x_gii_countries(10)"
   ]
  },
  {
   "cell_type": "code",
   "execution_count": 36,
   "metadata": {},
   "outputs": [
    {
     "data": {
      "text/html": [
       "<div>\n",
       "<style scoped>\n",
       "    .dataframe tbody tr th:only-of-type {\n",
       "        vertical-align: middle;\n",
       "    }\n",
       "\n",
       "    .dataframe tbody tr th {\n",
       "        vertical-align: top;\n",
       "    }\n",
       "\n",
       "    .dataframe thead th {\n",
       "        text-align: right;\n",
       "    }\n",
       "</style>\n",
       "<table border=\"1\" class=\"dataframe\">\n",
       "  <thead>\n",
       "    <tr style=\"text-align: right;\">\n",
       "      <th></th>\n",
       "      <th>country</th>\n",
       "      <th>GII</th>\n",
       "    </tr>\n",
       "  </thead>\n",
       "  <tbody>\n",
       "    <tr>\n",
       "      <th>0</th>\n",
       "      <td>Yemen</td>\n",
       "      <td>0.834</td>\n",
       "    </tr>\n",
       "    <tr>\n",
       "      <th>1</th>\n",
       "      <td>Papua New Guinea</td>\n",
       "      <td>0.741</td>\n",
       "    </tr>\n",
       "    <tr>\n",
       "      <th>2</th>\n",
       "      <td>Chad</td>\n",
       "      <td>0.708</td>\n",
       "    </tr>\n",
       "    <tr>\n",
       "      <th>3</th>\n",
       "      <td>Mali</td>\n",
       "      <td>0.678</td>\n",
       "    </tr>\n",
       "    <tr>\n",
       "      <th>4</th>\n",
       "      <td>Central African Republic</td>\n",
       "      <td>0.673</td>\n",
       "    </tr>\n",
       "    <tr>\n",
       "      <th>5</th>\n",
       "      <td>Côte d'Ivoire</td>\n",
       "      <td>0.663</td>\n",
       "    </tr>\n",
       "    <tr>\n",
       "      <th>6</th>\n",
       "      <td>Liberia</td>\n",
       "      <td>0.656</td>\n",
       "    </tr>\n",
       "    <tr>\n",
       "      <th>7</th>\n",
       "      <td>Afghanistan</td>\n",
       "      <td>0.653</td>\n",
       "    </tr>\n",
       "    <tr>\n",
       "      <th>8</th>\n",
       "      <td>Congo, Democratic Republic of the</td>\n",
       "      <td>0.652</td>\n",
       "    </tr>\n",
       "    <tr>\n",
       "      <th>9</th>\n",
       "      <td>Niger</td>\n",
       "      <td>0.649</td>\n",
       "    </tr>\n",
       "  </tbody>\n",
       "</table>\n",
       "</div>"
      ],
      "text/plain": [
       "                             country    GII\n",
       "0                              Yemen  0.834\n",
       "1                   Papua New Guinea  0.741\n",
       "2                               Chad  0.708\n",
       "3                               Mali  0.678\n",
       "4           Central African Republic  0.673\n",
       "5                      Côte d'Ivoire  0.663\n",
       "6                            Liberia  0.656\n",
       "7                        Afghanistan  0.653\n",
       "8  Congo, Democratic Republic of the  0.652\n",
       "9                              Niger  0.649"
      ]
     },
     "execution_count": 36,
     "metadata": {},
     "output_type": "execute_result"
    }
   ],
   "source": [
    "top_x_gii_countries(10, False)"
   ]
  },
  {
   "cell_type": "code",
   "execution_count": 37,
   "metadata": {},
   "outputs": [
    {
     "data": {
      "text/html": [
       "<div>\n",
       "<style scoped>\n",
       "    .dataframe tbody tr th:only-of-type {\n",
       "        vertical-align: middle;\n",
       "    }\n",
       "\n",
       "    .dataframe tbody tr th {\n",
       "        vertical-align: top;\n",
       "    }\n",
       "\n",
       "    .dataframe thead th {\n",
       "        text-align: right;\n",
       "    }\n",
       "</style>\n",
       "<table border=\"1\" class=\"dataframe\">\n",
       "  <thead>\n",
       "    <tr style=\"text-align: right;\">\n",
       "      <th></th>\n",
       "      <th>country</th>\n",
       "      <th>2017</th>\n",
       "    </tr>\n",
       "  </thead>\n",
       "  <tbody>\n",
       "    <tr>\n",
       "      <th>0</th>\n",
       "      <td>Norway</td>\n",
       "      <td>0.953</td>\n",
       "    </tr>\n",
       "    <tr>\n",
       "      <th>1</th>\n",
       "      <td>Switzerland</td>\n",
       "      <td>0.944</td>\n",
       "    </tr>\n",
       "    <tr>\n",
       "      <th>2</th>\n",
       "      <td>Australia</td>\n",
       "      <td>0.939</td>\n",
       "    </tr>\n",
       "    <tr>\n",
       "      <th>3</th>\n",
       "      <td>Ireland</td>\n",
       "      <td>0.938</td>\n",
       "    </tr>\n",
       "    <tr>\n",
       "      <th>4</th>\n",
       "      <td>Germany</td>\n",
       "      <td>0.936</td>\n",
       "    </tr>\n",
       "    <tr>\n",
       "      <th>5</th>\n",
       "      <td>Iceland</td>\n",
       "      <td>0.935</td>\n",
       "    </tr>\n",
       "    <tr>\n",
       "      <th>6</th>\n",
       "      <td>Hong Kong, China, SAR</td>\n",
       "      <td>0.933</td>\n",
       "    </tr>\n",
       "    <tr>\n",
       "      <th>7</th>\n",
       "      <td>Sweden</td>\n",
       "      <td>0.933</td>\n",
       "    </tr>\n",
       "    <tr>\n",
       "      <th>8</th>\n",
       "      <td>Singapore</td>\n",
       "      <td>0.932</td>\n",
       "    </tr>\n",
       "    <tr>\n",
       "      <th>9</th>\n",
       "      <td>Netherlands</td>\n",
       "      <td>0.931</td>\n",
       "    </tr>\n",
       "  </tbody>\n",
       "</table>\n",
       "</div>"
      ],
      "text/plain": [
       "                 country   2017\n",
       "0                 Norway  0.953\n",
       "1            Switzerland  0.944\n",
       "2              Australia  0.939\n",
       "3                Ireland  0.938\n",
       "4                Germany  0.936\n",
       "5                Iceland  0.935\n",
       "6  Hong Kong, China, SAR  0.933\n",
       "7                 Sweden  0.933\n",
       "8              Singapore  0.932\n",
       "9            Netherlands  0.931"
      ]
     },
     "execution_count": 37,
     "metadata": {},
     "output_type": "execute_result"
    }
   ],
   "source": [
    "top_x_hdi_countries(10)"
   ]
  },
  {
   "cell_type": "code",
   "execution_count": 38,
   "metadata": {},
   "outputs": [
    {
     "data": {
      "text/html": [
       "<div>\n",
       "<style scoped>\n",
       "    .dataframe tbody tr th:only-of-type {\n",
       "        vertical-align: middle;\n",
       "    }\n",
       "\n",
       "    .dataframe tbody tr th {\n",
       "        vertical-align: top;\n",
       "    }\n",
       "\n",
       "    .dataframe thead th {\n",
       "        text-align: right;\n",
       "    }\n",
       "</style>\n",
       "<table border=\"1\" class=\"dataframe\">\n",
       "  <thead>\n",
       "    <tr style=\"text-align: right;\">\n",
       "      <th></th>\n",
       "      <th>country</th>\n",
       "      <th>2017</th>\n",
       "    </tr>\n",
       "  </thead>\n",
       "  <tbody>\n",
       "    <tr>\n",
       "      <th>0</th>\n",
       "      <td>Niger</td>\n",
       "      <td>0.354</td>\n",
       "    </tr>\n",
       "    <tr>\n",
       "      <th>1</th>\n",
       "      <td>Central African Republic</td>\n",
       "      <td>0.367</td>\n",
       "    </tr>\n",
       "    <tr>\n",
       "      <th>2</th>\n",
       "      <td>Burundi</td>\n",
       "      <td>0.417</td>\n",
       "    </tr>\n",
       "    <tr>\n",
       "      <th>3</th>\n",
       "      <td>Sierra Leone</td>\n",
       "      <td>0.419</td>\n",
       "    </tr>\n",
       "    <tr>\n",
       "      <th>4</th>\n",
       "      <td>Mali</td>\n",
       "      <td>0.427</td>\n",
       "    </tr>\n",
       "    <tr>\n",
       "      <th>5</th>\n",
       "      <td>Mozambique</td>\n",
       "      <td>0.437</td>\n",
       "    </tr>\n",
       "    <tr>\n",
       "      <th>6</th>\n",
       "      <td>Yemen</td>\n",
       "      <td>0.452</td>\n",
       "    </tr>\n",
       "    <tr>\n",
       "      <th>7</th>\n",
       "      <td>Congo, Democratic Republic of the</td>\n",
       "      <td>0.457</td>\n",
       "    </tr>\n",
       "    <tr>\n",
       "      <th>8</th>\n",
       "      <td>Guinea</td>\n",
       "      <td>0.459</td>\n",
       "    </tr>\n",
       "    <tr>\n",
       "      <th>9</th>\n",
       "      <td>Gambia</td>\n",
       "      <td>0.460</td>\n",
       "    </tr>\n",
       "  </tbody>\n",
       "</table>\n",
       "</div>"
      ],
      "text/plain": [
       "                             country   2017\n",
       "0                              Niger  0.354\n",
       "1           Central African Republic  0.367\n",
       "2                            Burundi  0.417\n",
       "3                       Sierra Leone  0.419\n",
       "4                               Mali  0.427\n",
       "5                         Mozambique  0.437\n",
       "6                              Yemen  0.452\n",
       "7  Congo, Democratic Republic of the  0.457\n",
       "8                             Guinea  0.459\n",
       "9                             Gambia  0.460"
      ]
     },
     "execution_count": 38,
     "metadata": {},
     "output_type": "execute_result"
    }
   ],
   "source": [
    "top_x_hdi_countries(10, True)"
   ]
  },
  {
   "cell_type": "markdown",
   "metadata": {},
   "source": [
    "The tables above are inaccordance with the findings in Gender Inequality Index plot. The top countries in gender equality are from europe and the bottom countries are mostly from Africa.\n",
    "Also the findings of the Human Development Index are the same as with the HDI graph. Thirdly most of the top countries in the GII list are also in the top of the HDI list, which is in accordance with the correlation that was found earlier."
   ]
  },
  {
   "cell_type": "markdown",
   "metadata": {},
   "source": [
    "## 3.2 Differing educational attainment"
   ]
  },
  {
   "cell_type": "code",
   "execution_count": 39,
   "metadata": {},
   "outputs": [
    {
     "data": {
      "application/vnd.jupyter.widget-view+json": {
       "model_id": "6040f9089e8f408982670c0968828a27",
       "version_major": 2,
       "version_minor": 0
      },
      "text/plain": [
       "interactive(children=(Dropdown(description='year', options=('2008', '2009', '2010', '2011', '2012', '2013', '2…"
      ]
     },
     "metadata": {},
     "output_type": "display_data"
    },
    {
     "data": {
      "text/plain": [
       "<function __main__.education_levels(year, df)>"
      ]
     },
     "execution_count": 39,
     "metadata": {},
     "output_type": "execute_result"
    }
   ],
   "source": [
    "interact(education_levels,\n",
    "         year = [\"2008\", \"2009\", \"2010\", \"2011\", \"2012\", \"2013\", \"2014\", \"2015\"], df = fixed(df))"
   ]
  },
  {
   "cell_type": "code",
   "execution_count": 40,
   "metadata": {
    "scrolled": false
   },
   "outputs": [
    {
     "data": {
      "application/vnd.jupyter.widget-view+json": {
       "model_id": "df9c2c7457664f78ae2e283d1d4975e3",
       "version_major": 2,
       "version_minor": 0
      },
      "text/plain": [
       "interactive(children=(Dropdown(description='year', options=('2008', '2009', '2010', '2011', '2012', '2013', '2…"
      ]
     },
     "metadata": {},
     "output_type": "display_data"
    },
    {
     "data": {
      "text/plain": [
       "<function __main__.educational_attainment(year, df)>"
      ]
     },
     "execution_count": 40,
     "metadata": {},
     "output_type": "execute_result"
    }
   ],
   "source": [
    "interact(educational_attainment, \n",
    "         year = [\"2008\", \"2009\", \"2010\", \"2011\", \"2012\", \"2013\", \"2014\"], df = fixed(df))"
   ]
  },
  {
   "cell_type": "markdown",
   "metadata": {},
   "source": [
    "The function educational_attainment shows the percentage of men and women of the population above 25 years old who have completed a Bachelor's degree or equivalent. There are substantial differences between the countries. In the United States, Turkey, South Africa, Sweden and Netherlands, the percentage of female students dropped, while the percentage of female graduates increased in Brazil, Italy, Iran, Pakistan and Singapore. The rise of female students has thus led to a smaller gap between male and female graduates in higher education.\n",
    "\n",
    "The same effect can be seen when looking at primary and secondary educational attainment. The number of girls who complete their primary or secondary education rises. Sometimes this percentage remains close to 100 percent due to the laws which state that primary education is mandatory for example.\n",
    "\n",
    "The rise of female graduates can be related to different factors according to the OECD. First of all, women are able to combine studies and work with their family in many places. Secondly, a better preparation for girls for higher education is present, also from their increasing average tests scores. Other explanations are related to the feminisation of the teaching profession and a learning environment more conductive to girls' social and cognitive dispositions (Lancrin, 2014)."
   ]
  },
  {
   "cell_type": "markdown",
   "metadata": {},
   "source": [
    "## 3.3 Linking education to employment"
   ]
  },
  {
   "cell_type": "code",
   "execution_count": 41,
   "metadata": {},
   "outputs": [
    {
     "data": {
      "application/vnd.jupyter.widget-view+json": {
       "model_id": "3334925a216d4ec2a84e9321bd88a09c",
       "version_major": 2,
       "version_minor": 0
      },
      "text/plain": [
       "interactive(children=(Dropdown(description='year', options=('2008', '2009', '2010', '2011', '2012', '2013', '2…"
      ]
     },
     "metadata": {},
     "output_type": "display_data"
    },
    {
     "data": {
      "text/plain": [
       "<function __main__.education_and_employment(year)>"
      ]
     },
     "execution_count": 41,
     "metadata": {},
     "output_type": "execute_result"
    }
   ],
   "source": [
    "interact(education_and_employment,\n",
    "         year = [\"2008\", \"2009\", \"2010\", \"2011\", \"2012\", \"2013\", \"2014\"])"
   ]
  },
  {
   "cell_type": "markdown",
   "metadata": {},
   "source": [
    "The function education_and_employment shows the share of women and men in the workforce for each country. The distribution of men and women employees has changed little over the past couple of years, despite the higher educational attainment by women. Despite better results in primary and secondary education, many women still face different barriers when they want to enter the labour market. These barriers are often related to stereotypes and biases employers and other members in society have. People often have the impression that women have more family responsibilities. In other cases, particular beliefs restrictions women to enter a certain field or study. One example is in STEM-fields (Science, Technology, Engineering and Mathematics), regarding which existing literature says that women will be under underrepresented in fields where  brilliance and inherent ability are considered to be the key to success. In these fiels, the belief is that women often lack the same sort of innate intelligence as men, and thus there will be less women participating in these fields (Meyer, Cimpian & Leslie, 2015)."
   ]
  },
  {
   "cell_type": "markdown",
   "metadata": {},
   "source": [
    "## 3.4 The role of women in the labour market"
   ]
  },
  {
   "cell_type": "code",
   "execution_count": 42,
   "metadata": {},
   "outputs": [
    {
     "data": {
      "application/vnd.jupyter.widget-view+json": {
       "model_id": "a69f4d2f7e59429491da2b57d01e490e",
       "version_major": 2,
       "version_minor": 0
      },
      "text/plain": [
       "interactive(children=(Dropdown(description='year', options=('2008', '2009', '2010', '2011', '2012', '2013', '2…"
      ]
     },
     "metadata": {},
     "output_type": "display_data"
    },
    {
     "data": {
      "text/plain": [
       "<function __main__.labour_force(year, df)>"
      ]
     },
     "execution_count": 42,
     "metadata": {},
     "output_type": "execute_result"
    }
   ],
   "source": [
    "interact(labour_force,\n",
    "         year = [\"2008\", \"2009\", \"2010\", \"2011\", \"2012\", \"2013\", \"2014\", \"2015\", \"2016\", \"2017\"], df = fixed(df))"
   ]
  },
  {
   "cell_type": "markdown",
   "metadata": {},
   "source": [
    "At first sight the pie charts show an overwhelming majority for men in the labour market, which doesn't come as a surprise considering the research and data(Stypińska et al., 2018). This inequality on the labour market is part of the reason for inequality in the GII plot and tables in section 3.1. Also the African countries, which are generally more gender inequal have a larger majority of men than the European countries, so this is also in line with earlier foundings. To come to real conclusions a statistical analysis is needed, which is subject for further research."
   ]
  },
  {
   "cell_type": "markdown",
   "metadata": {},
   "source": [
    "## 3.5 The influence of the unemployment ratio women/man on the GDP of a country"
   ]
  },
  {
   "cell_type": "code",
   "execution_count": 43,
   "metadata": {
    "scrolled": false
   },
   "outputs": [
    {
     "data": {
      "application/vnd.jupyter.widget-view+json": {
       "model_id": "7b4537d7b0934afd97bb01ef8a7e7ad1",
       "version_major": 2,
       "version_minor": 0
      },
      "text/plain": [
       "interactive(children=(Dropdown(description='year', options=('2008', '2009', '2010', '2011', '2012', '2013', '2…"
      ]
     },
     "metadata": {},
     "output_type": "display_data"
    },
    {
     "data": {
      "text/plain": [
       "<function __main__.employment_and_gdp(year, df)>"
      ]
     },
     "execution_count": 43,
     "metadata": {},
     "output_type": "execute_result"
    }
   ],
   "source": [
    "interact(employment_and_gdp,\n",
    "         year = [\"2008\", \"2009\", \"2010\", \"2011\", \"2012\", \"2013\", \"2014\", \"2015\", \"2016\", \"2017\"], df = fixed(df))"
   ]
  },
  {
   "cell_type": "markdown",
   "metadata": {},
   "source": [
    "This bubble chart has three indicators which are represented, namely the GDP per capita, female to male youth unemployment rate, and population where you are able to choose the year. Female to male youth unemployment would signal if it was 1 there would be no difference between the two genders, if it is lower than 1 the female unemployment is lower than the male and vice versa. The benefits of the selective countries is a clear overview of what changed per country. Signapore for example made significant GDP growth per capita while lowering female to male youth unemployment.\n",
    "\n",
    "The bubble chart also shows that countries where female unemployment is lower than male unemployment the GDP per capita is higher. There is a clear divide between two islands of countries with relative high female unemployment and low GDP versus low relative female unemployment and high GDP. The only outlier here is Signapore, due to high growth in capital while labor came later (Ross, 2015) it is not comparable to other countries. As it is a developing country which has the capital flow of a developed country and the growth of labor is not comparable. "
   ]
  },
  {
   "cell_type": "markdown",
   "metadata": {},
   "source": [
    "## 3.6 Trend of education for men and women"
   ]
  },
  {
   "cell_type": "code",
   "execution_count": 44,
   "metadata": {
    "scrolled": false
   },
   "outputs": [
    {
     "data": {
      "application/vnd.jupyter.widget-view+json": {
       "model_id": "cc9b270338284a21afe5bbaf8e9828e7",
       "version_major": 2,
       "version_minor": 0
      },
      "text/plain": [
       "interactive(children=(Dropdown(description='country_code', options=('AUS', 'BRA', 'USA', 'IRN', 'ITA', 'TUR', …"
      ]
     },
     "metadata": {},
     "output_type": "display_data"
    },
    {
     "data": {
      "text/plain": [
       "<function __main__.education_predictor(country_code, male_education, female_education, polynom=1)>"
      ]
     },
     "execution_count": 44,
     "metadata": {},
     "output_type": "execute_result"
    }
   ],
   "source": [
    "male_education = get_edu_ind(\"SE.TER.HIAT.BA.MA.ZS\")\n",
    "female_education = get_edu_ind(\"SE.TER.HIAT.BA.FE.ZS\")\n",
    "\n",
    "interact(education_predictor, \n",
    "         country_code = list_of_countries, male_education = fixed(male_education),\n",
    "         female_education = fixed(female_education), polynom = (0,10,1))"
   ]
  },
  {
   "cell_type": "markdown",
   "metadata": {},
   "source": [
    "As there number of data points were relatively limited and the data stops at 2014, it turned out to be fairly hard to do any real predictions on the education rate in different countries. Also changing the polynomial does not change this limitation, as it is either underfitting or overfitting the data.\n",
    "\n",
    "An interesting result was that in many countries there was a sudden drop in education rate in the year 2013. No good explanation has been found, which is something to do in future research. No conclusions can be made on when women get on the same level of education rate as men. Still this analysis is necessary to validate executed policies in the area of gender equality. When more data on equality will be available, and the drop in 2013 can be explained, some relevant conclusions can be made that can optimise the policies."
   ]
  },
  {
   "cell_type": "markdown",
   "metadata": {},
   "source": [
    "## Conclusion & discussion\n",
    "\n",
    "The research question \"How is gender equality related to the prosperity of a country?\" is visually analyzed in this notebook. The subquestions were performed step-by-step to create a storyline of gender equality and the effect of prosperity in different countries. The first subquestion gave an overview of the HDI and GII data correlated with each other. This significant linear correlation is a reason to investigate further, however the assumptions of this test remains to be tested. The other subquestions followed the indicators in education and employment. The second subquestion gives an overview of education levels in the different countries. Women have gotten closer to men in each of the education levels. Subquestion 3 suggests that there is a correlation between completed tertiary education (female) and their employment. However, it is still lower than male employment. Combined with the insight into subquestion 2 some countries with higher female education still have lower number of women in employment. Subquestion 4 showed that men are more present in the labour market and that the difference between men and women is bigger in most African countries. Subquestion 1 showed that African countries are more gender inequal, which is supported by this finding. Subquestion 5 shows an interesting divide of countries where female unemployment is relatively higher than male unemployment (youth) with the GDP per capita. The prediction in the last subquestion was not very reliable. There were too few data points and there was an unexplainable drop of the education rate in 2013. Still a prediction will be relevant for creating policies in the future.\n",
    "\n",
    "Despite increased educational attainment for women, there is a lack of increasement in the labour market. Also it has been found that this inequality supposedly leads to a lower prosperity for a country. Insufficient progress has been made, but the analyses in this research can't conlcude this fully. More research is needed with more data points, to be able to create a better anlysis. This affects inter- and extrapolation in the graphs. Another limitation is that the theoretical background of the indicators is not researched properly, which needs to include another literature survey. "
   ]
  },
  {
   "cell_type": "markdown",
   "metadata": {},
   "source": [
    "## References\n",
    "\n",
    "BSN Magazine (2018, March 16). *Advantages of Learning Python for Data Science*. Retrieved from: https://bsdmag.org/advantages-of-learning-python-for-data-science/\n",
    "\n",
    "Geopandas (2018). *Plotting with geoplot and geopandas*. Retrieved from: http://geopandas.org/gallery/plotting_with_geoplot.html\n",
    "\n",
    "Lagerhöf, N.P. (2003). Gender Equality and Long-Run Growth. *Journal of Economic Growth*,*8*(4), 403–426.\n",
    "\n",
    "Lancrin, S.V. (2008). The Reversal of Gender Inequalities in Higher Education: An On-going Trend. In OECD (ed.), *Higher Education to 2030 (Vol. 1): Demography*. Paris, France: OECD.\n",
    "\n",
    "Meyer, M., Cimpian, A. & Leslie, S.J. (2015, March 11th). Women are underrepresented in fields where success is believed to require brilliance. Retrieved from: https://www.frontiersin.org/articles/10.3389/fpsyg.2015.00235/full#h5 \n",
    "\n",
    "Morrison, A., Rajhu, D. & Sinha, N. (2007). *Gender equality, poverty and economic growth*. Washington, DC: World Bank.\n",
    "\n",
    "Samnøy, Å. (1993). *Human rights as international consensus, The making of the Universal Declaration of Human Rights 1945-1948*. Bergen, Norway: Chr. Michelsen Institute. \n",
    "\n",
    "United Nations (2015). *Universal Declaration of Human Rights*. n.p.: United Nations.\n",
    "\n",
    "United Nations (2018a). *The Sustainable Development Agenda*. Retrieved from: https://www.un.org/sustainabledevelopment/development-agenda/\n",
    "\n",
    "United Nations (2018b). *Gender Equality*. Retrieved from: https://www.un.org/sustainabledevelopment/gender-equality/\n",
    "\n",
    "Unterhalter, E. (2005). Global inequality, capabilities, social justice: The millennium development goal for gender equality in education. *International Journal of Educational Development*, *25*(2), 111-122.\n",
    "\n",
    "World Bank (2018). *Gender Statistics DataBank*. Retrieved from: http://databank.worldbank.org/data/reports.aspx?source=gender-statistics\n"
   ]
  },
  {
   "cell_type": "markdown",
   "metadata": {},
   "source": [
    "# Appendices\n",
    "\n",
    "## A: the Universal Declaration of Human Rights\n",
    "In order to find relevant indicators in gender equality in education and the labour market, the Universal Declaration of Human Rights has been analyzed to group indicators of the Gender Statistics data bank under relevant articles (United Nations, 2015).\n",
    "\n",
    "Article 1. All human beings are born free and equal in dignity and rights. They are endowed with reason and conscience and should act towards one another in a spirit of brotherhood.\n",
    "\n",
    "Article 2 - Everyone is entitled to all the rights and freedoms set forth in this Declaration, without distinction of any kind, such as race, colour, sex, language, religion, political or other opinion, national or social origin, property, birth or other status. Furthermore, no distinction shall be made on the basis of the political, jurisdictional or international status of the country or territory to which a person belongs, whether it be independent, trust, non-self-governing or under any other limitation of sovereignty.\n",
    "\n",
    "Article 3 - Everyone has the right to life, liberty and security of person.\n",
    "\n",
    "Article 4 - No one shall be held in slavery or servitude; slavery and the slave trade shall be prohibited in all their forms.\n",
    "\n",
    "Article 7 - All are equal before the law and are entitled without any discrimination to equal protection of the law. All are entitled to equal protection against any discrimination in violation of this Declaration and against any incitement to such discrimination.\n",
    "\n",
    "Article 16 - \n",
    "(1) Men and women of full age, without any limitation due to race, nationality or religion, have the right to marry and to found a family. They are entitled to equal rights as to marriage, during marriage and at its dissolution.\n",
    "(2) Marriage shall be entered into only with the free and full consent of the intending spouses.\n",
    "(3) The family is the natural and fundamental group unit of society and is entitled to protection by society and the State.\n",
    "\n",
    "Article 17 - (1) Everyone has the right to own property alone as well as in association with others.\n",
    "(2) No one shall be arbitrarily deprived of his property.\n",
    "\n",
    "Article 21 - (1) Everyone has the right to take part in the government of his country, directly or through freely chosen representatives.\n",
    "(2) Everyone has the right of equal access to public service in his country.\n",
    "(3) The will of the people shall be the basis of the authority of government; this will shall be expressed in periodic and genuine elections which shall be by universal and equal suffrage and shall be held by secret vote or by equivalent free voting procedures.\n",
    "\n",
    "Article 23 - (1) Everyone has the right to work, to free choice of employment, to just and favourable conditions of work and to protection against unemployment.\n",
    "(2) Everyone, without any discrimination, has the right to equal pay for equal work.\n",
    "(3) Everyone who works has the right to just and favourable remuneration ensuring for himself and his family an existence worthy of human dignity, and supplemented, if necessary, by other means of social protection.\n",
    "(4) Everyone has the right to form and to join trade unions for the protection of his interests.\n",
    "\n",
    "Article 25 - (1) Everyone has the right to a standard of living adequate for the health and well-being of himself and of his family, including food, clothing, housing and medical care and necessary social services, and the right to security in the event of unemployment, sickness, disability, widowhood, old age or other lack of livelihood in circumstances beyond his control.\n",
    "(2) Motherhood and childhood are entitled to special care and assistance. All children, whether born in or out of wedlock, shall enjoy the same social protection.\n",
    "\n",
    "Artikel 26 - (1) Everyone has the right to education. Education shall be free, at least in the elementary and fundamental stages. Elementary education shall be compulsory. Technical and professional education shall be made generally available and higher education shall be equally accessible to all on the basis of merit.\n",
    "(2) Education shall be directed to the full development of the human personality and to the strengthening of respect for human rights and fundamental freedoms. It shall promote understanding, tolerance and friendship among all nations, racial or religious groups, and shall further the activities of the United Nations for the maintenance of peace.\n",
    "(3) Parents have a prior right to choose the kind of education that shall be given to their children.   \n",
    "\n",
    "\n",
    "| Data Indicator | Universal Declaration of Human Rights |\n",
    "| --- | --- |\n",
    "| Mortality rate, under-5, male and female (per 1,000 live births)  | Article 1 |\n",
    "| Decision maker about health care, major household purchases, visiting of family (% of women age 15-49) | Article 3|\n",
    "| Proportion of women subjected to physical and/or sexual violence in the last 12 months (% of women age 15-49) | Article 3 |\n",
    "| Children in employment, female and male (% of female and male children age 7-14) | Article 4 |\n",
    "| Law mandate on: equal remuneration for females and males for work of equal value (yes = 1, no = 0) | Article 7 |\n",
    "| Law mandate on: nondiscrimination based on gender in hiring (yes = 1, no = 0) | Article 7 |\n",
    "| Law mandate on: invalidation or prohibition of child or early marriage (yes = 1, no = 0) | Article 7 |\n",
    "| Law mandate on: invalidation or prohibition sexual harassement (yes = 1, no = 0) | Article 7 |\n",
    "| Law mandate on: maternity leave (yes = 1, no = 0) | Article 7 |\n",
    "| Law mandate on: nondiscrimination clause mentioning gender in the constitution (yes = 1, no = 0) | Article 7 |\n",
    "| Law mandate on: a women's testimony carrying the same evidentiary weight (yes = 1, no = 0) | Article 7 |\n",
    "|Age at first marriage, female and male (Age)|Article 16|\n",
    "|Law mandate on women having to obey their husband (yes = 1, no = 0)|Article 16|\n",
    "|Law mandate on the right for women to carry their own national ID-card (yes = 1, no = 0)|Article 16|\n",
    "|Women making their own informed decisions regarding contraceptive use and reproductive health care (% of women age 15-49)|Article 16|\n",
    "| Women partcipating in decisions on health care, major household purchases, visiting of family or relatives (% of women age 15-49)|Article 16|\n",
    "|Women who were first married by the age of 15 (% of women age 20-24)|Article 16|\n",
    "|Equal ownership rights to property for men and women (yes = 1, no = 0)|Article 17|\n",
    "|Proportion of seats held by women in national parliaments (%)|Article 21|\n",
    "|Proportion of women in ministerial level positions (%)|Article 21|\n",
    "|Cost of business start-up procedures, female (% of GNI per capita)|Article 23|\n",
    "|Employers, female and male (% of female and male employment)|Article 23|\n",
    "|Employment to population ratio, female and male (population ratio, 15+, female, %)|Article 23|\n",
    "|Female share of employment in senior and middle management (%)|Article 23|\n",
    "|Professional and technical workers (% of total)|Article 23|\n",
    "|Firms with female top manager (% of firms)|Article 23|\n",
    "|Labor force participation rate, female and male (% of female and male population ages 15+)|Article 23|\n",
    "|Own-account workers, female and male (% of female and male employment)|Article 23|\n",
    "|Self-employed, female and male (% of female and male employment)|Article 23|\n",
    "|Start-up procedures to register a business, female and male (number)|Article 23|\n",
    "|Ratio of female to male youth unemployment rate (% ages 15-24)|Article 23|\n",
    "|Wage and salaried workers, female and male (% of female employment)|Article 23|\n",
    "|Vulnerable employment, female and male (% of female and male employment)|Article 23|\n",
    "|Access to anti-retroviral drugs, female and male (%)|Article 25|\n",
    "|Account ownership at a financial institution or with a mobile-money-service provider, female and male (% of population ages 15+)|Article 25|\n",
    "|Adolescent fertility rate (births per 1,000 women ages 15-19)|Article 25|\n",
    "|Cause of death, by communicable diseases, ages 15-34, female and male (% of relevant age group)|Article 25|\n",
    "|Contraceptive prevalence, any methods (% of women ages 15-49)|Article 25|\n",
    "|Female genital mutilation prevalence (%)|Article 25|\n",
    "|Immunization, DPT/measles (% of children ages 12-23 months)|Article 25|\n",
    "|Life expectancy at birth, female and male (years)|Article 25|\n",
    "|Literacy rate, female and male (% of females ages 15 and above)|Article 25|\n",
    "|Number of maternal deaths (number)|Article 25|\n",
    "|Pregnant women receiving prenatal care (%)|Article 25|\n",
    "|Prevalence of overweight/underweight, female and male (% of female and male adults)|Article 25|\n",
    "|Unmet need for contraception (% of married women ages 15-49)|Article 25|\n",
    "|Adjusted net enrollment rate, primary, female and male (% of primary school age children)|Article 26|\n",
    "|Educational attainment, at least completed primary, population 25+ years, female and male (%) (cumulative)|Article 26|\n",
    "|Educational attainment, at least completed lower secondary, population 25+ years, female and male (%)|Article 26|\n",
    "|Educational attainment, at least Bachelor's or equivalent, population 25+, female and male (%) (cumulative)|Article 26|\n",
    "| Gender Inequality Index | Article 7, Article 21, Article 25, Article 26|\n",
    "| Human Development Index | Article 26 |"
   ]
  }
 ],
 "metadata": {
  "kernelspec": {
   "display_name": "Python 3",
   "language": "python",
   "name": "python3"
  },
  "language_info": {
   "codemirror_mode": {
    "name": "ipython",
    "version": 3
   },
   "file_extension": ".py",
   "mimetype": "text/x-python",
   "name": "python",
   "nbconvert_exporter": "python",
   "pygments_lexer": "ipython3",
   "version": "3.6.5"
  }
 },
 "nbformat": 4,
 "nbformat_minor": 2
}
